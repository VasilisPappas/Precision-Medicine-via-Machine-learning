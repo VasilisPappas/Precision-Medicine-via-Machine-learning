{
 "cells": [
  {
   "cell_type": "markdown",
   "id": "58369ed7",
   "metadata": {},
   "source": [
    "<font size=20><font color='red'>Boosting</font></font>\n",
    "\n",
    "If a dataset shows signs of overfitting during its training process, bagging, and specifically random forests, are often mentioned as effective methods to mitigate this issue. However, when dealing with data described by a very simple model, such as a decision tree with only one level, the problem of oversimplification or **underfitting** can arise. In such cases, the model fails to capture the true relationships between variables, leading to **high bias but low variance**. The model is essentially undertrained, resulting in a large training error, and it struggles to generalize to new data.\n",
    "\n",
    "This problem can be addressed using boosting methods, which increase the complexity of the final model by combining it with very simple learning algorithms, often referred to as \"weak learners\" (as proposed by Freund et al., 1999). While individual **weak learners may have high bias**, the **final boosted model tends to have lower bias**. The objective is to aggregate these weak classifiers, such as shallow trees or logistic regression models, to create a robust model that minimizes both training and generalization errors.\n",
    "\n",
    "It is worth emphasizing that boosting methods, including Adaboost, have been reported in the literature to utilize 'strong' classifiers as base models. However, it's important to note that this represents a departure from the classical approach that typically employs 'weak' classifiers, and it may not be the preferred choice for our data analysis.\n",
    "\n",
    "\n",
    "# Differences Between Bagging and Boosting:\n",
    "\n",
    "Bagging and boosting, both meta-algorithms, offer distinct advantages depending on the problem at hand. They differ in several aspects, including their training methodology, intended use, and application domains.\n",
    "\n",
    "### Training Methodology:\n",
    "\n",
    "In bagging, algorithms are trained **independently** and in **parallel**. Each model is constructed without influence from the others.\n",
    "Boosting: In boosting, algorithms are trained **sequentially**. Each subsequent model focuses on correcting the errors made by the previous ones.\n",
    "\n",
    "### Purpose:\n",
    "\n",
    "Bagging is effective in **reducing overfitting** and, consequently, **decreasing variance**. It helps create a more stable and reliable model when the base models (weak models!) are complex and prone to overfitting.\n",
    "\n",
    "Boosting is employed when there is **underfitting** in the data, and the goal is to **reduce bias**. It corrects the model's tendency to be too simplistic and is particularly useful for improving performance with weak base models.\n",
    "\n",
    "### Hyperparameter Tuning:\n",
    "\n",
    "Careful hyperparameter tuning is crucial for both bagging and boosting. However, boosting, as a means to address high bias, requires special attention. If boosting is performed with base models that have significant bias, it can lead to overfitting. In essence, gradually building the boosting model with models having high bias can result in a final model with reduced bias but increased variance.\n",
    "\n",
    "### Application Domains:\n",
    "\n",
    "Bagging is commonly applied in contexts such as loan approval and statistical genomics, where reducing variance is crucial.\n",
    "Boosting finds applications in image recognition, anomaly detection, error reduction in medical data predictions, and search engine algorithms, where addressing underfitting and bias is essential.\n",
    "\n",
    "In summary, bagging is suitable for reducing variance and stabilizing complex models, while boosting is employed to correct bias and enhance performance, particularly with weak base models. Both techniques use weak models and require careful hyperparameter tuning to achieve optimal results in various application domains.\n",
    "\n",
    "# Advantages and disadvantages of Boosting.\n",
    "\n",
    "The primary purpose of boosting algorithms is to **reduce bias while using simple models (with hig bias)**. These models are user-friendly, require **minimal data preprocessing**, and offer **easy hyperparameter tuning** for improved model fit. Another advantage of boosting over bagging methods is **increased speed**. Boosting selects only the features that enhance predictive power during each iteration, reducing dimensionality and enhancing computational efficiency.\n",
    "\n",
    "However, boosting aims to enrich the model with more \"information\" to reduce bias, which **can lead to overfitting** as it creates increasingly complex models. The algorithm reaches an equilibrium, the \"golden ratio,\" where it uses only the features that enhance performance. This can result in the inclusion of more variables while using a smaller dimensional space to express the most statistically significant relationships.\n",
    "\n",
    "Boosting achieves **good generalization even with a smaller number of decision trees**, unlike random forest bagging, which typically requires a larger number of trees to perform well. One drawback of boosting methods is **sensitivity to extreme values**. Common drawback with bagging is the **difficulty of interpretation**.\n",
    "\n",
    "In upcoming jupyter notebooks, three variations of boosting methods will be presented: Adaptive Boosting (AdaBoost), Gradient Boosting, and XGBoost.\n"
   ]
  },
  {
   "cell_type": "markdown",
   "id": "01b0c9f2",
   "metadata": {},
   "source": [
    "<font color='orange'><font size=20>Gradient Boosting</font></font>\n",
    "\n",
    "AdaBoost assigns different weights to models based on their performance, while Gradient Boosting uses a **common learning rate** to control the contribution of each model, with each subsequent model aimed at improving upon the previous one."
   ]
  },
  {
   "cell_type": "code",
   "execution_count": 1,
   "id": "1347cc72",
   "metadata": {},
   "outputs": [],
   "source": [
    "# Importing the necessary packages and libraries.\n",
    "\n",
    "import pandas as pd\n",
    "import numpy as np\n",
    "import matplotlib.pyplot as plt\n",
    "import seaborn as sns\n",
    "import math\n",
    "import statistics\n",
    "import scipy.stats\n",
    "from sklearn.model_selection import train_test_split"
   ]
  },
  {
   "cell_type": "code",
   "execution_count": 2,
   "id": "2df97ce5",
   "metadata": {},
   "outputs": [],
   "source": [
    "# Loading data from excel.\n",
    "\n",
    "ded=pd.read_excel('CogTEL_new.xlsx')"
   ]
  },
  {
   "cell_type": "code",
   "execution_count": 3,
   "id": "dc05a02e",
   "metadata": {},
   "outputs": [],
   "source": [
    "# Convert object variables to floats and replace '-' with NaN. \n",
    "# We need that kind of transformation in order to to handle such variables in Python.\n",
    "\n",
    "ded['education']=pd.to_numeric(ded['education'],errors='coerce')\n",
    "ded['GDS_6']=pd.to_numeric(ded['GDS_6'],errors='coerce')\n",
    "ded['GDS_8']=pd.to_numeric(ded['GDS_8'],errors='coerce')\n",
    "ded['GDS_9']=pd.to_numeric(ded['GDS_9'],errors='coerce')\n",
    "ded['NPIJ32F']=pd.to_numeric(ded['NPIJ32F'],errors='coerce')"
   ]
  },
  {
   "cell_type": "code",
   "execution_count": 4,
   "id": "8e2803de",
   "metadata": {},
   "outputs": [],
   "source": [
    "# Rename the following columns for potential selection in subsequent analysis steps (optional, but acceptable...).\n",
    "\n",
    "ded = ded.rename(columns={'Antidepressants ': 'Antidepressants' })\n",
    "ded = ded.rename(columns={'Concentration/attention' : 'Concentration_attention'})"
   ]
  },
  {
   "cell_type": "code",
   "execution_count": 5,
   "id": "e2b266aa",
   "metadata": {},
   "outputs": [],
   "source": [
    "# Removing instances (rows/examples/patients) having missing values.\n",
    "\n",
    "ded=ded.dropna()"
   ]
  },
  {
   "cell_type": "code",
   "execution_count": 6,
   "id": "1329a2c2",
   "metadata": {},
   "outputs": [],
   "source": [
    "# Removing patients under the age of 50, or equivalently, keeping those who are 50 and older.\n",
    "\n",
    "dedomena=ded[ded['Age']>49]"
   ]
  },
  {
   "cell_type": "code",
   "execution_count": 7,
   "id": "16b3030a",
   "metadata": {},
   "outputs": [
    {
     "data": {
      "text/plain": [
       "(504, 61)"
      ]
     },
     "execution_count": 7,
     "metadata": {},
     "output_type": "execute_result"
    }
   ],
   "source": [
    "dedomena.shape"
   ]
  },
  {
   "cell_type": "code",
   "execution_count": 8,
   "id": "d85e9717",
   "metadata": {},
   "outputs": [],
   "source": [
    "# Assigning the set of independent variables and the target variable to X and Y respectively.\n",
    "\n",
    "X=dedomena.drop('diagnosis',axis=1)\n",
    "Y=dedomena.diagnosis"
   ]
  },
  {
   "cell_type": "markdown",
   "id": "c7ae1ef4",
   "metadata": {},
   "source": [
    "<font color='green'><font size=8> Imbalance problem</font></font>\n",
    "\n",
    "### Regarding the issue of imbalance, there is an inhomogeneity in the dataset concerning the classes predicted by the target variable. Specifically, there is a significant disparity in the number of observations belonging to classes \"0\" and \"1\" as compared to classes \"2\" and \"3\". By utilizing the SMOTE method, we aim to generate suitable samples for the minority classes to address the problem of the unequal distribution of observations."
   ]
  },
  {
   "cell_type": "code",
   "execution_count": 9,
   "id": "6253b61f",
   "metadata": {},
   "outputs": [
    {
     "name": "stdout",
     "output_type": "stream",
     "text": [
      "Class=0, n=208 (41.270%)\n",
      "Class=2, n=79 (15.675%)\n",
      "Class=1, n=173 (34.325%)\n",
      "Class=3, n=44 (8.730%)\n"
     ]
    },
    {
     "data": {
      "image/png": "[encoded data removed]",
      "text/plain": [
       "<Figure size 432x288 with 1 Axes>"
      ]
     },
     "metadata": {
      "needs_background": "light"
     },
     "output_type": "display_data"
    }
   ],
   "source": [
    "# Displaying the count of instances per predicted class.\n",
    "\n",
    "from collections import Counter\n",
    "counter = Counter(Y)\n",
    "for k,v in counter.items():\n",
    "    per = v / len(Y) * 100\n",
    "    \n",
    "    print('Class=%d, n=%d (%.3f%%)' % (k, v, per))\n",
    "    \n",
    "# plot the distribution\n",
    "\n",
    "plt.bar(counter.keys(), counter.values())\n",
    "plt.show()"
   ]
  },
  {
   "cell_type": "code",
   "execution_count": 10,
   "id": "35ce4d91",
   "metadata": {},
   "outputs": [
    {
     "name": "stdout",
     "output_type": "stream",
     "text": [
      "Requirement already satisfied: imblearn in c:\\users\\bill\\anaconda3\\lib\\site-packages (0.0)\n",
      "Requirement already satisfied: imbalanced-learn in c:\\users\\bill\\anaconda3\\lib\\site-packages (from imblearn) (0.9.1)\n",
      "Requirement already satisfied: scipy>=1.3.2 in c:\\users\\bill\\anaconda3\\lib\\site-packages (from imbalanced-learn->imblearn) (1.7.3)\n",
      "Requirement already satisfied: joblib>=1.0.0 in c:\\users\\bill\\anaconda3\\lib\\site-packages (from imbalanced-learn->imblearn) (1.1.0)\n",
      "Requirement already satisfied: numpy>=1.17.3 in c:\\users\\bill\\anaconda3\\lib\\site-packages (from imbalanced-learn->imblearn) (1.21.5)\n",
      "Requirement already satisfied: threadpoolctl>=2.0.0 in c:\\users\\bill\\anaconda3\\lib\\site-packages (from imbalanced-learn->imblearn) (2.2.0)\n",
      "Requirement already satisfied: scikit-learn>=1.1.0 in c:\\users\\bill\\anaconda3\\lib\\site-packages (from imbalanced-learn->imblearn) (1.1.2)\n",
      "Requirement already satisfied: imbalanced-learn in c:\\users\\bill\\anaconda3\\lib\\site-packages (0.9.1)\n",
      "Requirement already satisfied: scipy>=1.3.2 in c:\\users\\bill\\anaconda3\\lib\\site-packages (from imbalanced-learn) (1.7.3)\n",
      "Requirement already satisfied: threadpoolctl>=2.0.0 in c:\\users\\bill\\anaconda3\\lib\\site-packages (from imbalanced-learn) (2.2.0)\n",
      "Requirement already satisfied: scikit-learn>=1.1.0 in c:\\users\\bill\\anaconda3\\lib\\site-packages (from imbalanced-learn) (1.1.2)\n",
      "Requirement already satisfied: numpy>=1.17.3 in c:\\users\\bill\\anaconda3\\lib\\site-packages (from imbalanced-learn) (1.21.5)\n",
      "Requirement already satisfied: joblib>=1.0.0 in c:\\users\\bill\\anaconda3\\lib\\site-packages (from imbalanced-learn) (1.1.0)\n"
     ]
    }
   ],
   "source": [
    "!pip install imblearn\n",
    "!pip install imbalanced-learn"
   ]
  },
  {
   "cell_type": "code",
   "execution_count": 11,
   "id": "5036061a",
   "metadata": {},
   "outputs": [
    {
     "name": "stdout",
     "output_type": "stream",
     "text": [
      "Class=0, n=208 (25.000%)\n",
      "Class=2, n=208 (25.000%)\n",
      "Class=1, n=208 (25.000%)\n",
      "Class=3, n=208 (25.000%)\n"
     ]
    },
    {
     "data": {
      "image/png": "[encoded data removed]",
      "text/plain": [
       "<Figure size 432x288 with 1 Axes>"
      ]
     },
     "metadata": {
      "needs_background": "light"
     },
     "output_type": "display_data"
    }
   ],
   "source": [
    "# SMOTE: Synthetic Minority Oversampling Technique.\n",
    "\n",
    "from collections import Counter\n",
    "from imblearn.over_sampling import SMOTE\n",
    "oversample = SMOTE(random_state=7)\n",
    "X, Y = oversample.fit_resample(X, Y)\n",
    "\n",
    "# summarize distribution\n",
    "\n",
    "counter = Counter(Y)\n",
    "for k,v in counter.items():\n",
    "    per = v / len(Y) * 100\n",
    "    \n",
    "    print('Class=%d, n=%d (%.3f%%)' % (k, v, per))\n",
    "    \n",
    "# plot the distribution\n",
    "\n",
    "plt.bar(counter.keys(), counter.values())\n",
    "plt.show()"
   ]
  },
  {
   "cell_type": "markdown",
   "id": "64bbea11",
   "metadata": {},
   "source": [
    "<font color='purple'><font size=8>Cross validation</font></font>\n",
    "\n",
    "## is a technique used to find the optimal learning algorithm that can make accurate predictions and generalize well to unseen data. It involves determining the best way to divide the dataset into subsets for training and evaluation purposes.\n",
    "The simplest approach, as illustrated in the figure below, involves three key sets in every machine learning algorithm:\n",
    "\n",
    "Train set: Configured for learning and parameter estimation.\n",
    "\n",
    "Validation set: Used for tuning hyperparameters, assessing predictive ability, and aiding in data preparation and feature selection. Validation is performed within the training set.\n",
    "\n",
    "Test set: Provides an unbiased assessment of the final model's predictability for comparing and choosing between models.\n",
    "\n",
    "In summary, model generation occurs through the training set, while performance evaluation is split between the validation and test sets. However, this division reduces the training data and can introduce randomness in set selection. An alternative to this is cross-validation (CV), which involves multiple rounds of sampling from the existing dataset, using different subsets each time.\n",
    "\n",
    "Two common methods of cv are:\n",
    "\n",
    "### 1. hold-out cv\n",
    "\n",
    "This is one of the simplest data splitting methods, typically using an 80% training and 20% testing (or 90% and 10%) ratio. It's well-suited for large datasets, as it involves just one data split. This provides sample data for both training and testing the model's validity. However, it's important to note that this method may struggle with heterogeneous datasets, where sample independence in the selection of training and test sets is crucial. Another limitation is its inability to fine-tune hyperparameters, which can be addressed by employing a separate validation set. Yet, more flexible and reliable methods like nested cross-validation (nested CV) exist.\n",
    "\n",
    "### 2. k-fold cv\n",
    "\n",
    "K-fold cross-validation is a widely used method for model tuning and comparison. It involves dividing the original dataset into k subsets. Starting with the first subset (k=1) as the test set, the remaining k-1 subsets are used for training. The model's performance is evaluated on this test set, and the result is recorded. Repeating this process k times yields k independent models, each with its estimate (score) of model effectiveness. The final model score is obtained by calculating the average of these scores. This method allows for model comparison, helping us choose the one with the highest success rate.\n",
    "\n",
    "The advantage of k-fold cross-validation is that it uses different subsets of the original data for both training and testing, providing better supervision for model evaluation. Choosing an appropriate value for k is essential. Larger k values generally lead to higher accuracy, but they come with increased time and computational costs. Additionally, for large k values, the original dataset must be sufficiently large to ensure the test set's size is suitable for model evaluation.\n",
    "\n",
    "### 3. nested cv\n",
    "\n",
    "Cross-validation (CV) is a method used for hyperparameter tuning and model comparison. One simple approach is to divide the data into three parts: a training set, a validation set, and a test set (figure below). The model is trained on the training set with various hyperparameter values, validated on the validation set, and its final performance is assessed on the test set. However, this method may not account for variability in the validation process and doesn't guarantee optimal hyperparameters.\n",
    "\n",
    "Another common strategy is to use a hold-out method to create a test set and apply a different CV method to optimize hyperparameters on the training set. However, this approach provides only one test set, which can limit model evaluation.\n",
    "\n",
    "A less favorable method, known as non-nested cross-validation, performs both validation and model evaluation on the same test set. This approach can introduce bias due to hyperparameter tuning.\n",
    "\n",
    "#### To address these issues, nested k-fold cross-validation is used, involving two loops: an inner loop for hyperparameter tuning and an outer loop for comparing models with optimal hyperparameters. This method is computationally expensive, but it offers protection against overfitting and takes into account variability in both the test and validation sets.\n",
    "\n",
    "In conclusion, CV determines the model with the highest predictive ability. It's essential when dealing with dependent data or small sample sizes. CV methods provide a comprehensive estimate of model performance, which depends on the number of iterations in k-fold or repeated k-fold. Finally, the optimal model is selected for predictions on new data after thorough evaluation with resampling methods."
   ]
  },
  {
   "attachments": {
    "data%20set.png": {
     "image/png": "[encoded data removed]"
    }
   },
   "cell_type": "markdown",
   "id": "28b006ad",
   "metadata": {},
   "source": [
    "![data%20set.png](attachment:data%20set.png)"
   ]
  },
  {
   "cell_type": "code",
   "execution_count": 12,
   "id": "3693a05d",
   "metadata": {},
   "outputs": [],
   "source": [
    "# Splitting dataset into training and test sets (hold-out cv).\n",
    "\n",
    "X_train,X_test,Y_train,Y_test=train_test_split(X,Y,test_size=0.3,random_state=3)"
   ]
  },
  {
   "cell_type": "code",
   "execution_count": 13,
   "id": "bfb4f2b0",
   "metadata": {},
   "outputs": [
    {
     "name": "stdout",
     "output_type": "stream",
     "text": [
      "Classification Report\n",
      "              precision    recall  f1-score   support\n",
      "\n",
      "           0       0.90      0.81      0.85        69\n",
      "           1       0.75      0.70      0.72        69\n",
      "           2       0.93      0.85      0.89        66\n",
      "           3       0.69      0.96      0.80        46\n",
      "\n",
      "    accuracy                           0.82       250\n",
      "   macro avg       0.82      0.83      0.82       250\n",
      "weighted avg       0.83      0.82      0.82       250\n",
      "\n"
     ]
    }
   ],
   "source": [
    "# Training a Gradient boosting classifier.\n",
    "# By default GradientBoostingClassifier is built by 100 trees/stumps (n_estimators=100), \n",
    "# so it makes no sense in showing through a graph how an Adaboost classifier looks like! It's too complex!\n",
    "# Also, the GradientBoostingClassifier function automatically handles multi-class problems.\n",
    "\n",
    "from sklearn.ensemble import GradientBoostingClassifier\n",
    "from sklearn.metrics import classification_report\n",
    "\n",
    "gb_clf2 = GradientBoostingClassifier(random_state=0)\n",
    "gb_clf2.fit(X_train, Y_train)\n",
    "\n",
    "# Predict the response values for test dataset.\n",
    "\n",
    "predictions = gb_clf2.predict(X_test)\n",
    "\n",
    "# Overall metrics.\n",
    "# Testing how well the model predicts according with the test set.\n",
    "# Y_test is the exact response values of the test set, and we want to check if they match with those predicted by the model.\n",
    "\n",
    "print(\"Classification Report\")\n",
    "print(classification_report(Y_test, predictions))"
   ]
  },
  {
   "cell_type": "markdown",
   "id": "8e5598bc",
   "metadata": {},
   "source": [
    "<font color='red'><font size=8>Overfitting</font></font>\n",
    "\n",
    "is a common issue that arises in the context of complex models when there is a scarcity of training examples relative to the numerous features. In such situations, the classifier's accuracy can exhibit significant discrepancies between the training data and various testing datasets used for validation. Overfitting is associated with a high degree of variance and indicates that the model is excessively focused on the training data, resulting in poor predictive performance on unseen testing data. To mitigate overfitting, one can either leverage a larger volume of data or simplify the model by reducing its dimensions, thus enhancing its ability to generalize. It's worth noting that models that are overly constrained as well as those that are overly flexible, are susceptible to overfitting and should be avoided.\n",
    "\n",
    "## In summary, overfitting occurs when the classifier essentially memorizes the training set's outcomes rather than learning from them."
   ]
  },
  {
   "cell_type": "code",
   "execution_count": 14,
   "id": "c0cc2d47",
   "metadata": {},
   "outputs": [
    {
     "data": {
      "text/plain": [
       "1.0"
      ]
     },
     "execution_count": 14,
     "metadata": {},
     "output_type": "execute_result"
    }
   ],
   "source": [
    "# Overfitting! So whereas accuracy = 0.82 (not that bad) we cannot trust the model due to overfitting...\n",
    "\n",
    "gb_clf2.score(X_train,Y_train)"
   ]
  },
  {
   "cell_type": "code",
   "execution_count": 15,
   "id": "336090bb",
   "metadata": {},
   "outputs": [
    {
     "data": {
      "text/plain": [
       "array([0.85628743, 0.79640719, 0.81325301, 0.80120482, 0.86746988])"
      ]
     },
     "execution_count": 15,
     "metadata": {},
     "output_type": "execute_result"
    }
   ],
   "source": [
    "# Training a Gradient boosting classifier with Nested cv (it takes about 2 minutes to run...).\n",
    "# Setting f1_micro, f1_macro, recall_micro, recall_macro etc, depending on what we need.\n",
    "# Setting refit=True the model with the best parameters (best_estimator_) is automatically fitted to the entire data set.\n",
    "\n",
    "from sklearn.model_selection import GridSearchCV,cross_val_score,RepeatedKFold,KFold\n",
    "\n",
    "clf1=GradientBoostingClassifier(random_state=67)\n",
    "inner_cv = KFold(n_splits=3, shuffle=True, random_state=1)\n",
    "outer_cv = KFold(n_splits=5, shuffle=True, random_state=1)\n",
    "space=dict()\n",
    "space['learning_rate']=[0.1, 0.5, 0.7, 1]\n",
    "space['n_estimators']=[100, 200, 300, 400]\n",
    "search = GridSearchCV(clf1, space, scoring='recall_micro', n_jobs=-1, cv=inner_cv, refit=True)\n",
    "search.fit(X, Y)\n",
    "\n",
    "nested_scores=cross_val_score(search, X, Y, scoring='recall_micro',cv=outer_cv, n_jobs=-1)\n",
    "nested_scores"
   ]
  },
  {
   "cell_type": "code",
   "execution_count": 16,
   "id": "377a3de4",
   "metadata": {},
   "outputs": [
    {
     "data": {
      "text/plain": [
       "{'learning_rate': 0.7, 'n_estimators': 100}"
      ]
     },
     "execution_count": 16,
     "metadata": {},
     "output_type": "execute_result"
    }
   ],
   "source": [
    "search.best_params_"
   ]
  },
  {
   "cell_type": "code",
   "execution_count": 17,
   "id": "0e2eaf4d",
   "metadata": {},
   "outputs": [
    {
     "data": {
      "text/plain": [
       "0.8269244643243633"
      ]
     },
     "execution_count": 17,
     "metadata": {},
     "output_type": "execute_result"
    }
   ],
   "source": [
    "nested_scores.mean()"
   ]
  },
  {
   "cell_type": "markdown",
   "id": "f16f9572",
   "metadata": {},
   "source": [
    "<font size=8>ΟVO and OVA (or OVR)</font>\n",
    "\n",
    "Many algorithms, such as Logistic Regression, decision trees, and SVM, are inherently binary classifiers. In cases where we have more than two response classes (multi-class), and we seek predictions for a single class (rather than multiple, as in the multi-label problem), these algorithms require modification to operate effectively. To address this, combinatorial methods have been developed. These methods utilize binary classification procedures to design multiple classifiers using ensemble classification techniques.\n",
    "\n",
    "### 1.OVR:\n",
    "\n",
    "The One-Versus-Rest (OvR) or One-Versus-All (OVA) technique produces k binary classifiers when there are k classes in the target variable. For an observation x (input value) and classes C₁, ..., Cₖ, k binary models (hypotheses) are created with the following output values:\n",
    "\n",
    "* hi(x) = +1, if x ∈ Ci\n",
    "\n",
    "* hi(x) = -1, otherwise \n",
    "\n",
    "This approach involves training k classifiers, with each one deciding based on the rule of  \"one class compared to the sum of the others\".\n",
    "\n",
    "For instance, consider a dataset with a total of 1000 examples of fruits divided into four different classes: 500 examples of 'apple,' 300 of 'pear,' 100 of 'tangerine,' and 100 of 'banana.' The goal is to predict the correct class among these four. To achieve this, k classifiers (here k=4) are created for the following binary classification problems:\n",
    "\n",
    "Classifier No.1: {apple} vs {pear, tangerine, banana}\n",
    "\n",
    "Classifier No.2: {pear} vs {apple, tangerine, banana}\n",
    "\n",
    "Classifier No.3: {tangerine} vs {pear, apple, banana}\n",
    "\n",
    "Classifier No.4: {banana} vs {pear, apple, tangerine}\n",
    "\n",
    "The initial training set is modified k times to reflect the true values of the response variable. For the training of each classifier, a value of +1 is assigned to 'positive' classes with single elements, while a value of -1 is assigned to 'negative' heterogeneous classes with multiplicity greater than or equal to 2.\n",
    "\n",
    "The training is conducted using standard binary classification techniques, and the final prediction is based solely on those models that predict the 'positive' class (an individual class rather than a combination). From these models, the result with the highest probability (confidence score) is selected.\n",
    "\n",
    "If only one classifier predicts the 'positive' class, it is selected without comparing probabilities.\n",
    "\n",
    "To test performance on new, unseen data, the same process is applied to each instance in the test dataset as was done during model construction. If the accuracy meets expectations, the model can be relied upon for making predictions.\n",
    "\n",
    "### 2.OVO:\n",
    "\n",
    "One-Versus-One (OVO), in a multi-class problem, decomposes into k(k-1)/2 binary class optimization problems, creating all possible combinations between the different classes. Each training set consists of one class to predict against one (and only one) other class, resulting in k times 2 combinations (C(k,2)) for each classifier.\n",
    "\n",
    "In this approach, a 'negative' class is not a combined class for which we are uncertain about the algorithm's prediction; instead, it is a class with a clear negative sign and a distinct outcome. For example, in a problem with 4 classes, the combinations would be as follows:\n",
    "\n",
    "Classifier No.1: {apple} vs {pear}\n",
    "\n",
    "Classifier No.2: {apple} vs {tangerine}\n",
    "\n",
    "Classifier No.3: {apple} vs {banana}\n",
    "\n",
    "Classifier No.4: {pear} vs {banana}\n",
    "\n",
    "Classifier No.5: {pear} vs {tangerine}\n",
    "\n",
    "Classifier No.6: {tangerine} vs {banana}\n",
    "\n",
    "The final prediction is determined by a majority decision. Initially, +1 values are assigned to the classes on the left column and -1 for those on the right. For instance, if we receive the following predictions from these classifiers:\n",
    "\n",
    "No.1 → +1 (apple)\n",
    "\n",
    "No.2 → +1 (apple)\n",
    "\n",
    "No.3 → -1 (banana)\n",
    "\n",
    "No.4 → -1 (banana)\n",
    "\n",
    "No.5 → -1 (tangerine)\n",
    "\n",
    "No.6 → -1 (banana)\n",
    "\n",
    "In this scenario, since most predictions are 'negative,' we determine which 'negative' class prevails. In this case, the 'banana' class would be the final prediction."
   ]
  },
  {
   "cell_type": "code",
   "execution_count": 18,
   "id": "8b3bcb96",
   "metadata": {},
   "outputs": [],
   "source": [
    "from sklearn.multiclass import OneVsRestClassifier\n",
    "from sklearn.multiclass import OneVsOneClassifier\n",
    "from sklearn.metrics import f1_score, recall_score, precision_score, accuracy_score"
   ]
  },
  {
   "cell_type": "code",
   "execution_count": 19,
   "id": "ffa46709",
   "metadata": {},
   "outputs": [
    {
     "name": "stdout",
     "output_type": "stream",
     "text": [
      "Precision-micro of OvO Classifier: 0.81\n",
      "Recall-micro of OvO Classifier: 0.81\n",
      "f1-micro of OvO Classifier: 0.81\n"
     ]
    }
   ],
   "source": [
    "# Training ОVO algorithm with the default hyperparameters of Gradient boosting algorithm.\n",
    "\n",
    "OvO_clf = OneVsOneClassifier(GradientBoostingClassifier(random_state=0))\n",
    "OvO_clf.fit(X_train, Y_train)\n",
    "\n",
    "y_pred = OvO_clf.predict(X_test)\n",
    "\n",
    "print('Precision-micro of OvO Classifier: {:.2f}'.format(precision_score(Y_test, y_pred, average='micro')))\n",
    "print('Recall-micro of OvO Classifier: {:.2f}'.format(recall_score(Y_test, y_pred, average='micro')))\n",
    "print('f1-micro of OvO Classifier: {:.2f}'.format(f1_score(Y_test, y_pred, average='micro')))"
   ]
  },
  {
   "cell_type": "code",
   "execution_count": 20,
   "id": "1adc835a",
   "metadata": {},
   "outputs": [
    {
     "data": {
      "text/plain": [
       "array([0.88095238, 0.94047619, 0.8313253 , 0.79518072, 0.85542169,\n",
       "       0.80722892, 0.89156627, 0.84337349, 0.89156627, 0.86746988])"
      ]
     },
     "execution_count": 20,
     "metadata": {},
     "output_type": "execute_result"
    }
   ],
   "source": [
    "# Training ОVO algorithm with nested cv.\n",
    "# slow running about 5 min.\n",
    "# Tuning hyperparameters with the OVO and OVR classifiers the 'estimator__' prefix is used for each hyperparameter we check.\n",
    "\n",
    "clf=OneVsOneClassifier(GradientBoostingClassifier(random_state=6))\n",
    "inner_cv = KFold(n_splits=5, shuffle= True, random_state=1)\n",
    "outer_cv = KFold(n_splits=10, shuffle=True, random_state=1)\n",
    "space=dict()\n",
    "space['estimator__n_estimators']=[100, 200, 300]\n",
    "space['estimator__learning_rate']=[0.1, 0.5, 1]\n",
    "search = GridSearchCV(clf, space, scoring='f1_micro', n_jobs=-1, cv=inner_cv, refit=True)\n",
    "search.fit(X, Y)\n",
    "\n",
    "nested_scores=cross_val_score(search, X, Y, scoring='f1_micro', cv=outer_cv, n_jobs=-1,error_score=\"raise\")\n",
    "nested_scores"
   ]
  },
  {
   "cell_type": "code",
   "execution_count": 21,
   "id": "aa6e1c3d",
   "metadata": {},
   "outputs": [
    {
     "data": {
      "text/plain": [
       "0.8604561101549054"
      ]
     },
     "execution_count": 21,
     "metadata": {},
     "output_type": "execute_result"
    }
   ],
   "source": [
    "nested_scores.mean()"
   ]
  },
  {
   "cell_type": "code",
   "execution_count": 22,
   "id": "b2cf4eec",
   "metadata": {},
   "outputs": [
    {
     "name": "stdout",
     "output_type": "stream",
     "text": [
      "Precision-micro of OvR Classifier: 0.81\n",
      "Recall-micro of OvR Classifier: 0.81\n",
      "f1-micro of OvR Classifier: 0.81\n"
     ]
    }
   ],
   "source": [
    "# Training ОVR algorithm with the default hyperparameters of Gradient boosting algorithm.\n",
    "\n",
    "from sklearn.metrics import accuracy_score\n",
    "OvR_clf = OneVsRestClassifier(GradientBoostingClassifier(random_state=0))\n",
    "OvR_clf.fit(X_train, Y_train)\n",
    "\n",
    "y_pred = OvR_clf.predict(X_test)\n",
    "\n",
    "print('Precision-micro of OvR Classifier: {:.2f}'.format(precision_score(Y_test, y_pred, average='micro')))\n",
    "print('Recall-micro of OvR Classifier: {:.2f}'.format(recall_score(Y_test, y_pred, average='micro')))\n",
    "print('f1-micro of OvR Classifier: {:.2f}'.format(f1_score(Y_test, y_pred, average='micro')))"
   ]
  },
  {
   "cell_type": "code",
   "execution_count": 23,
   "id": "fc991ef4",
   "metadata": {},
   "outputs": [
    {
     "data": {
      "text/plain": [
       "array([0.9047619 , 0.91666667, 0.84337349, 0.8313253 , 0.79518072,\n",
       "       0.8313253 , 0.86746988, 0.79518072, 0.86746988, 0.89156627])"
      ]
     },
     "execution_count": 23,
     "metadata": {},
     "output_type": "execute_result"
    }
   ],
   "source": [
    "# Training ОVR algorithm with nested cv.\n",
    "# slow running about 10 min.\n",
    "# Tuning hyperparameters with the OVO and OVR classifiers the 'estimator__' prefix is used for each hyperparameter we check.\n",
    "\n",
    "clf=OneVsRestClassifier(GradientBoostingClassifier(random_state=6))\n",
    "inner_cv = KFold(n_splits=5, shuffle= True, random_state=1)\n",
    "outer_cv = KFold(n_splits=10, shuffle=True, random_state=1)\n",
    "space=dict()\n",
    "space['estimator__n_estimators']=[100, 200, 300]\n",
    "space['estimator__learning_rate']=[0.1, 0.5, 1]\n",
    "search = GridSearchCV(clf, space, scoring='f1_micro', n_jobs=-1, cv=inner_cv, refit=True)\n",
    "search.fit(X, Y)\n",
    "\n",
    "nested_scores=cross_val_score(search, X, Y, scoring='f1_micro', cv=outer_cv, n_jobs=-1,error_score=\"raise\")\n",
    "nested_scores"
   ]
  },
  {
   "cell_type": "code",
   "execution_count": 24,
   "id": "704d7f98",
   "metadata": {},
   "outputs": [
    {
     "data": {
      "text/plain": [
       "0.8544320137693632"
      ]
     },
     "execution_count": 24,
     "metadata": {},
     "output_type": "execute_result"
    }
   ],
   "source": [
    "nested_scores.mean()"
   ]
  },
  {
   "cell_type": "code",
   "execution_count": 25,
   "id": "6cb7fccc",
   "metadata": {},
   "outputs": [
    {
     "data": {
      "text/html": [
       "<style>#sk-container-id-1 {color: black;background-color: white;}#sk-container-id-1 pre{padding: 0;}#sk-container-id-1 div.sk-toggleable {background-color: white;}#sk-container-id-1 label.sk-toggleable__label {cursor: pointer;display: block;width: 100%;margin-bottom: 0;padding: 0.3em;box-sizing: border-box;text-align: center;}#sk-container-id-1 label.sk-toggleable__label-arrow:before {content: \"▸\";float: left;margin-right: 0.25em;color: #696969;}#sk-container-id-1 label.sk-toggleable__label-arrow:hover:before {color: black;}#sk-container-id-1 div.sk-estimator:hover label.sk-toggleable__label-arrow:before {color: black;}#sk-container-id-1 div.sk-toggleable__content {max-height: 0;max-width: 0;overflow: hidden;text-align: left;background-color: #f0f8ff;}#sk-container-id-1 div.sk-toggleable__content pre {margin: 0.2em;color: black;border-radius: 0.25em;background-color: #f0f8ff;}#sk-container-id-1 input.sk-toggleable__control:checked~div.sk-toggleable__content {max-height: 200px;max-width: 100%;overflow: auto;}#sk-container-id-1 input.sk-toggleable__control:checked~label.sk-toggleable__label-arrow:before {content: \"▾\";}#sk-container-id-1 div.sk-estimator input.sk-toggleable__control:checked~label.sk-toggleable__label {background-color: #d4ebff;}#sk-container-id-1 div.sk-label input.sk-toggleable__control:checked~label.sk-toggleable__label {background-color: #d4ebff;}#sk-container-id-1 input.sk-hidden--visually {border: 0;clip: rect(1px 1px 1px 1px);clip: rect(1px, 1px, 1px, 1px);height: 1px;margin: -1px;overflow: hidden;padding: 0;position: absolute;width: 1px;}#sk-container-id-1 div.sk-estimator {font-family: monospace;background-color: #f0f8ff;border: 1px dotted black;border-radius: 0.25em;box-sizing: border-box;margin-bottom: 0.5em;}#sk-container-id-1 div.sk-estimator:hover {background-color: #d4ebff;}#sk-container-id-1 div.sk-parallel-item::after {content: \"\";width: 100%;border-bottom: 1px solid gray;flex-grow: 1;}#sk-container-id-1 div.sk-label:hover label.sk-toggleable__label {background-color: #d4ebff;}#sk-container-id-1 div.sk-serial::before {content: \"\";position: absolute;border-left: 1px solid gray;box-sizing: border-box;top: 0;bottom: 0;left: 50%;z-index: 0;}#sk-container-id-1 div.sk-serial {display: flex;flex-direction: column;align-items: center;background-color: white;padding-right: 0.2em;padding-left: 0.2em;position: relative;}#sk-container-id-1 div.sk-item {position: relative;z-index: 1;}#sk-container-id-1 div.sk-parallel {display: flex;align-items: stretch;justify-content: center;background-color: white;position: relative;}#sk-container-id-1 div.sk-item::before, #sk-container-id-1 div.sk-parallel-item::before {content: \"\";position: absolute;border-left: 1px solid gray;box-sizing: border-box;top: 0;bottom: 0;left: 50%;z-index: -1;}#sk-container-id-1 div.sk-parallel-item {display: flex;flex-direction: column;z-index: 1;position: relative;background-color: white;}#sk-container-id-1 div.sk-parallel-item:first-child::after {align-self: flex-end;width: 50%;}#sk-container-id-1 div.sk-parallel-item:last-child::after {align-self: flex-start;width: 50%;}#sk-container-id-1 div.sk-parallel-item:only-child::after {width: 0;}#sk-container-id-1 div.sk-dashed-wrapped {border: 1px dashed gray;margin: 0 0.4em 0.5em 0.4em;box-sizing: border-box;padding-bottom: 0.4em;background-color: white;}#sk-container-id-1 div.sk-label label {font-family: monospace;font-weight: bold;display: inline-block;line-height: 1.2em;}#sk-container-id-1 div.sk-label-container {text-align: center;}#sk-container-id-1 div.sk-container {/* jupyter's `normalize.less` sets `[hidden] { display: none; }` but bootstrap.min.css set `[hidden] { display: none !important; }` so we also need the `!important` here to be able to override the default hidden behavior on the sphinx rendered scikit-learn.org. See: https://github.com/scikit-learn/scikit-learn/issues/21755 */display: inline-block !important;position: relative;}#sk-container-id-1 div.sk-text-repr-fallback {display: none;}</style><div id=\"sk-container-id-1\" class=\"sk-top-container\"><div class=\"sk-text-repr-fallback\"><pre>OneVsRestClassifier(estimator=GradientBoostingClassifier(learning_rate=0.5,\n",
       "                                                         n_estimators=300,\n",
       "                                                         random_state=6))</pre><b>In a Jupyter environment, please rerun this cell to show the HTML representation or trust the notebook. <br />On GitHub, the HTML representation is unable to render, please try loading this page with nbviewer.org.</b></div><div class=\"sk-container\" hidden><div class=\"sk-item sk-dashed-wrapped\"><div class=\"sk-label-container\"><div class=\"sk-label sk-toggleable\"><input class=\"sk-toggleable__control sk-hidden--visually\" id=\"sk-estimator-id-1\" type=\"checkbox\" ><label for=\"sk-estimator-id-1\" class=\"sk-toggleable__label sk-toggleable__label-arrow\">OneVsRestClassifier</label><div class=\"sk-toggleable__content\"><pre>OneVsRestClassifier(estimator=GradientBoostingClassifier(learning_rate=0.5,\n",
       "                                                         n_estimators=300,\n",
       "                                                         random_state=6))</pre></div></div></div><div class=\"sk-parallel\"><div class=\"sk-parallel-item\"><div class=\"sk-item\"><div class=\"sk-label-container\"><div class=\"sk-label sk-toggleable\"><input class=\"sk-toggleable__control sk-hidden--visually\" id=\"sk-estimator-id-2\" type=\"checkbox\" ><label for=\"sk-estimator-id-2\" class=\"sk-toggleable__label sk-toggleable__label-arrow\">estimator: GradientBoostingClassifier</label><div class=\"sk-toggleable__content\"><pre>GradientBoostingClassifier(learning_rate=0.5, n_estimators=300, random_state=6)</pre></div></div></div><div class=\"sk-serial\"><div class=\"sk-item\"><div class=\"sk-estimator sk-toggleable\"><input class=\"sk-toggleable__control sk-hidden--visually\" id=\"sk-estimator-id-3\" type=\"checkbox\" ><label for=\"sk-estimator-id-3\" class=\"sk-toggleable__label sk-toggleable__label-arrow\">GradientBoostingClassifier</label><div class=\"sk-toggleable__content\"><pre>GradientBoostingClassifier(learning_rate=0.5, n_estimators=300, random_state=6)</pre></div></div></div></div></div></div></div></div></div></div>"
      ],
      "text/plain": [
       "OneVsRestClassifier(estimator=GradientBoostingClassifier(learning_rate=0.5,\n",
       "                                                         n_estimators=300,\n",
       "                                                         random_state=6))"
      ]
     },
     "execution_count": 25,
     "metadata": {},
     "output_type": "execute_result"
    }
   ],
   "source": [
    "search.best_estimator_"
   ]
  }
 ],
 "metadata": {
  "kernelspec": {
   "display_name": "Python 3 (ipykernel)",
   "language": "python",
   "name": "python3"
  },
  "language_info": {
   "codemirror_mode": {
    "name": "ipython",
    "version": 3
   },
   "file_extension": ".py",
   "mimetype": "text/x-python",
   "name": "python",
   "nbconvert_exporter": "python",
   "pygments_lexer": "ipython3",
   "version": "3.9.12"
  }
 },
 "nbformat": 4,
 "nbformat_minor": 5
}
